{
  "nbformat": 4,
  "nbformat_minor": 0,
  "metadata": {
    "colab": {
      "provenance": [],
      "authorship_tag": "ABX9TyNbVJG86m1vV+CpMMDa/5t6",
      "include_colab_link": true
    },
    "kernelspec": {
      "name": "python3",
      "display_name": "Python 3"
    },
    "language_info": {
      "name": "python"
    }
  },
  "cells": [
    {
      "cell_type": "markdown",
      "metadata": {
        "id": "view-in-github",
        "colab_type": "text"
      },
      "source": [
        "<a href=\"https://colab.research.google.com/github/prasanthkavin/BizCardX-Extracting-Business-Card-Data-with-OCR/blob/main/xyma_analytics_project.ipynb\" target=\"_parent\"><img src=\"https://colab.research.google.com/assets/colab-badge.svg\" alt=\"Open In Colab\"/></a>"
      ]
    },
    {
      "cell_type": "code",
      "source": [
        "import pandas as pd\n",
        "import numpy as np\n",
        "import matplotlib.pyplot as plt\n",
        "from scipy.signal import argrelextrema\n",
        "from scipy.integrate import trapz, simps\n",
        "from scipy.optimize import curve_fit\n",
        "from scipy.fft import fft, fftfreq\n",
        "\n",
        "# Task 1: Visualize the ultrasound signal with peak and valley tracking\n",
        "df = pd.read_csv('1 (17).csv')\n",
        "amplitude = df['average(-A)']\n",
        "time = df['Time']\n",
        "\n",
        "peaks = argrelextrema(amplitude.values, comparator_func=max, order=10)[0]\n",
        "valleys = argrelextrema(amplitude.values, comparator_func=min, order=10)[0]\n",
        "\n",
        "selected_peaks_valleys = pd.DataFrame(columns=['Amplitude', 'Time'])\n",
        "\n",
        "for index in peaks:\n",
        "    selected_peaks_valleys = selected_peaks_valleys.append({'Amplitude': amplitude[index], 'Time': time[index]}, ignore_index=True)\n",
        "\n",
        "for index in valleys:\n",
        "    selected_peaks_valleys = selected_peaks_valleys.append({'Amplitude': amplitude[index], 'Time': time[index]}, ignore_index=True)\n",
        "\n",
        "selected_peaks_valleys.to_excel('peaks_valleys.xlsx', index=False)\n",
        "\n",
        "plt.plot(time, amplitude)\n",
        "plt.scatter(time[peaks], amplitude[peaks], color='r', label='Peaks')\n",
        "plt.scatter(time[valleys], amplitude[valleys], color='g', label='Valleys')\n",
        "plt.xlabel('Time ')\n",
        "plt.ylabel('Amplitude')\n",
        "plt.title('Ultrasound Signal with Peaks and Valleys')\n",
        "plt.legend()\n",
        "plt.show()\n",
        "\n",
        "# Task 2: Calculate the area under the curve using numerical integration methods\n",
        "area_trapezoidal = trapz(amplitude, time)\n",
        "area_midpoint = np.sum((time[1:] - time[:-1]) * amplitude[:-1])\n",
        "area_simpsons = simps(amplitude, time)\n",
        "\n",
        "print('Area under the curve (Trapezoidal Rule):', area_trapezoidal)\n",
        "print('Area under the curve (Midpoint Rule):', area_midpoint)\n",
        "print('Area under the curve (Simpson\\'s Rule):', area_simpsons)\n",
        "\n",
        "# Task 3: Fit a Gaussian curve to the first peak\n",
        "def gaussian(x, a, b, c):\n",
        "    return a * np.exp(-(x - b)**2 / (2 * c**2))\n",
        "\n",
        "first_peak_amplitude = amplitude[peaks[0]]\n",
        "first_peak_time = time[peaks[0]]\n",
        "\n",
        "popt, pcov = curve_fit(gaussian, time, amplitude, p0=[first_peak_amplitude, first_peak_time, 1])\n",
        "\n",
        "a_fit, b_fit, c_fit = popt\n",
        "gaussian_equation = f'Amplitude * exp(-(x - Time)**2 / (2 * Sigma**2)), where Amplitude = {a_fit}, Time = {b_fit}, Sigma = {c_fit}'\n",
        "\n",
        "plt.plot(time, amplitude)\n",
        "plt.plot(time, gaussian(time, a_fit, b_fit, c_fit), 'r--', label='Gaussian Fit')\n",
        "plt.xlabel('Time')\n",
        "plt.ylabel('Amplitude')\n",
        "plt.title('Gaussian Fit to First Peak')\n",
        "plt.legend()\n",
        "plt.show()\n",
        "\n",
        "# Task 4: Compute the FFT and plot the frequency spectrum\n",
        "fft_values = fft(amplitude)\n",
        "freq = fftfreq(len(amplitude), d=(time[1] - time[0]))\n",
        "\n",
        "plt.plot(freq, np.abs(fft_values))\n",
        "plt.xlabel('Frequency (Hz)')\n",
        "plt.ylabel('Amplitude')\n",
        "plt.title('Frequency Spectrum')\n",
        "plt.show()\n"
      ],
      "metadata": {
        "id": "ymQSQMuBq0yp"
      },
      "execution_count": null,
      "outputs": []
    }
  ]
}